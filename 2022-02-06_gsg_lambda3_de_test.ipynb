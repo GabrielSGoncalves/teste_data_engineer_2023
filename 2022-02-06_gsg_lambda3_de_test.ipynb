{
 "cells": [
  {
   "cell_type": "markdown",
   "id": "4817a5d2-931f-454b-8699-f0abbf882d90",
   "metadata": {},
   "source": [
    "# Notebook de desenvolvimento de tarefas relacionadas ao teste para Engenharia de Dados da Lambda 3"
   ]
  },
  {
   "cell_type": "markdown",
   "id": "cd0f2411-aa45-48df-9d9c-d2466cf248c3",
   "metadata": {},
   "source": [
    "## Segunfa tarefa: Utilizando o Pyspark para cálculo de total líquido da empresa de cartões de crédito"
   ]
  },
  {
   "cell_type": "code",
   "execution_count": 1,
   "id": "e13bf74a-bbcb-499d-9108-d0a45be9dbc0",
   "metadata": {
    "tags": []
   },
   "outputs": [],
   "source": [
    "import pandas as pd"
   ]
  },
  {
   "cell_type": "code",
   "execution_count": 3,
   "id": "bee4caab-d693-4e6f-96c6-696da5de4ce7",
   "metadata": {},
   "outputs": [],
   "source": [
    "transacoes = [\n",
    "{'transacao_id' : 1, 'total_bruto' : 3000, 'desconto_percentual' : 6.99},\n",
    "{'transacao_id' : 2, 'total_bruto' : 57989, 'desconto_percentual' : 1.45},\n",
    "{'transacao_id' : 4, 'total_bruto' : 1, 'desconto_percentual' : None},\n",
    "{'transacao_id' : 5, 'total_bruto' : 34, 'desconto_percentual' : 0.0},\n",
    "\n",
    "]\n"
   ]
  },
  {
   "cell_type": "code",
   "execution_count": 4,
   "id": "d1ede734-cbbd-4167-88f8-54cf3fd03b7a",
   "metadata": {
    "tags": []
   },
   "outputs": [],
   "source": [
    "df_transacoes = pd.DataFrame(transacoes)"
   ]
  },
  {
   "cell_type": "code",
   "execution_count": 5,
   "id": "a79a0f8a-5fc8-4457-a8b8-69294108b76a",
   "metadata": {
    "tags": []
   },
   "outputs": [
    {
     "data": {
      "text/html": [
       "<div>\n",
       "<style scoped>\n",
       "    .dataframe tbody tr th:only-of-type {\n",
       "        vertical-align: middle;\n",
       "    }\n",
       "\n",
       "    .dataframe tbody tr th {\n",
       "        vertical-align: top;\n",
       "    }\n",
       "\n",
       "    .dataframe thead th {\n",
       "        text-align: right;\n",
       "    }\n",
       "</style>\n",
       "<table border=\"1\" class=\"dataframe\">\n",
       "  <thead>\n",
       "    <tr style=\"text-align: right;\">\n",
       "      <th></th>\n",
       "      <th>transacao_id</th>\n",
       "      <th>total_bruto</th>\n",
       "      <th>desconto_percentual</th>\n",
       "    </tr>\n",
       "  </thead>\n",
       "  <tbody>\n",
       "    <tr>\n",
       "      <th>0</th>\n",
       "      <td>1</td>\n",
       "      <td>3000</td>\n",
       "      <td>6.99</td>\n",
       "    </tr>\n",
       "    <tr>\n",
       "      <th>1</th>\n",
       "      <td>2</td>\n",
       "      <td>57989</td>\n",
       "      <td>1.45</td>\n",
       "    </tr>\n",
       "    <tr>\n",
       "      <th>2</th>\n",
       "      <td>4</td>\n",
       "      <td>1</td>\n",
       "      <td>NaN</td>\n",
       "    </tr>\n",
       "    <tr>\n",
       "      <th>3</th>\n",
       "      <td>5</td>\n",
       "      <td>34</td>\n",
       "      <td>0.00</td>\n",
       "    </tr>\n",
       "  </tbody>\n",
       "</table>\n",
       "</div>"
      ],
      "text/plain": [
       "   transacao_id  total_bruto  desconto_percentual\n",
       "0             1         3000                 6.99\n",
       "1             2        57989                 1.45\n",
       "2             4            1                  NaN\n",
       "3             5           34                 0.00"
      ]
     },
     "execution_count": 5,
     "metadata": {},
     "output_type": "execute_result"
    }
   ],
   "source": [
    "df_transacoes"
   ]
  },
  {
   "cell_type": "markdown",
   "id": "f26f04d8-4dba-49c4-84fc-6aed025e3944",
   "metadata": {},
   "source": [
    "### Validando a lógica com Pandas"
   ]
  },
  {
   "cell_type": "code",
   "execution_count": 7,
   "id": "21e26b52-0b57-481a-b4b8-56f8cf387505",
   "metadata": {
    "tags": []
   },
   "outputs": [
    {
     "data": {
      "text/plain": [
       "59973.4595"
      ]
     },
     "execution_count": 7,
     "metadata": {},
     "output_type": "execute_result"
    }
   ],
   "source": [
    "df_transacoes.desconto_percentual = df_transacoes.desconto_percentual.fillna(0.0)\n",
    "\n",
    "sum(df_transacoes['total_bruto'] * ((100 - df_transacoes['desconto_percentual']) / 100))"
   ]
  },
  {
   "cell_type": "markdown",
   "id": "df797643-c606-4aa1-995c-566c28e4f461",
   "metadata": {},
   "source": [
    "### Implementando a lógica em Pyspark"
   ]
  },
  {
   "cell_type": "code",
   "execution_count": 8,
   "id": "90f7fb2a-c294-4a42-b64c-b2b04eba0f2e",
   "metadata": {},
   "outputs": [],
   "source": [
    "import pandas as pd\n",
    "from pyspark.sql import SparkSession\n",
    "from pyspark.sql.functions import expr\n",
    "from pyspark.sql import functions as F"
   ]
  },
  {
   "cell_type": "code",
   "execution_count": 9,
   "id": "4e346763-34d8-4dc3-aabc-fa1567389739",
   "metadata": {},
   "outputs": [
    {
     "name": "stdout",
     "output_type": "stream",
     "text": [
      "23/02/09 21:56:29 WARN Utils: Your hostname, pop-os resolves to a loopback address: 127.0.1.1; using 192.168.15.129 instead (on interface wlp0s20f3)\n",
      "23/02/09 21:56:29 WARN Utils: Set SPARK_LOCAL_IP if you need to bind to another address\n"
     ]
    },
    {
     "name": "stderr",
     "output_type": "stream",
     "text": [
      "Setting default log level to \"WARN\".\n",
      "To adjust logging level use sc.setLogLevel(newLevel). For SparkR, use setLogLevel(newLevel).\n"
     ]
    },
    {
     "name": "stdout",
     "output_type": "stream",
     "text": [
      "23/02/09 21:56:29 WARN NativeCodeLoader: Unable to load native-hadoop library for your platform... using builtin-java classes where applicable\n"
     ]
    }
   ],
   "source": [
    "# Create a Spark session\n",
    "spark = SparkSession.builder.appName(\"ReadDictionary\").getOrCreate()"
   ]
  },
  {
   "cell_type": "code",
   "execution_count": 10,
   "id": "f2e160bc-8940-487c-90f0-e78ca62e7ecf",
   "metadata": {},
   "outputs": [
    {
     "data": {
      "text/html": [
       "<div>\n",
       "<style scoped>\n",
       "    .dataframe tbody tr th:only-of-type {\n",
       "        vertical-align: middle;\n",
       "    }\n",
       "\n",
       "    .dataframe tbody tr th {\n",
       "        vertical-align: top;\n",
       "    }\n",
       "\n",
       "    .dataframe thead th {\n",
       "        text-align: right;\n",
       "    }\n",
       "</style>\n",
       "<table border=\"1\" class=\"dataframe\">\n",
       "  <thead>\n",
       "    <tr style=\"text-align: right;\">\n",
       "      <th></th>\n",
       "      <th>transacao_id</th>\n",
       "      <th>total_bruto</th>\n",
       "      <th>desconto_percentual</th>\n",
       "    </tr>\n",
       "  </thead>\n",
       "  <tbody>\n",
       "    <tr>\n",
       "      <th>0</th>\n",
       "      <td>1</td>\n",
       "      <td>3000</td>\n",
       "      <td>6.99</td>\n",
       "    </tr>\n",
       "    <tr>\n",
       "      <th>1</th>\n",
       "      <td>2</td>\n",
       "      <td>57989</td>\n",
       "      <td>1.45</td>\n",
       "    </tr>\n",
       "    <tr>\n",
       "      <th>2</th>\n",
       "      <td>4</td>\n",
       "      <td>1</td>\n",
       "      <td>NaN</td>\n",
       "    </tr>\n",
       "    <tr>\n",
       "      <th>3</th>\n",
       "      <td>5</td>\n",
       "      <td>34</td>\n",
       "      <td>0.00</td>\n",
       "    </tr>\n",
       "  </tbody>\n",
       "</table>\n",
       "</div>"
      ],
      "text/plain": [
       "   transacao_id  total_bruto  desconto_percentual\n",
       "0             1         3000                 6.99\n",
       "1             2        57989                 1.45\n",
       "2             4            1                  NaN\n",
       "3             5           34                 0.00"
      ]
     },
     "execution_count": 10,
     "metadata": {},
     "output_type": "execute_result"
    }
   ],
   "source": [
    "# Convert the dictionary to a Pandas dataframe\n",
    "df = pd.DataFrame(transacoes)\n",
    "df"
   ]
  },
  {
   "cell_type": "code",
   "execution_count": 11,
   "id": "4d61f6ad-7d72-4efd-98c6-ca5f50c4f71f",
   "metadata": {},
   "outputs": [
    {
     "name": "stderr",
     "output_type": "stream",
     "text": [
      "/home/gabriel/miniconda3/envs/lambda3_de_test/lib/python3.8/site-packages/pyspark/sql/pandas/conversion.py:474: FutureWarning: iteritems is deprecated and will be removed in a future version. Use .items instead.\n",
      "  for column, series in pdf.iteritems():\n",
      "/home/gabriel/miniconda3/envs/lambda3_de_test/lib/python3.8/site-packages/pyspark/sql/pandas/conversion.py:486: FutureWarning: iteritems is deprecated and will be removed in a future version. Use .items instead.\n",
      "  for column, series in pdf.iteritems():\n"
     ]
    }
   ],
   "source": [
    "# Convert the Pandas dataframe to a Spark dataframe\n",
    "spark_df = spark.createDataFrame(df)\n",
    "spark_df = spark_df.na.fill(0, subset=[\"desconto_percentual\"])"
   ]
  },
  {
   "cell_type": "code",
   "execution_count": 12,
   "id": "4e728520-87b6-4f2b-837e-b8d97765d3db",
   "metadata": {
    "tags": []
   },
   "outputs": [
    {
     "name": "stdout",
     "output_type": "stream",
     "text": [
      "+------------+-----------+-------------------+\n",
      "|transacao_id|total_bruto|desconto_percentual|\n",
      "+------------+-----------+-------------------+\n",
      "|           1|       3000|               6.99|\n",
      "|           2|      57989|               1.45|\n",
      "|           4|          1|                0.0|\n",
      "|           5|         34|                0.0|\n",
      "+------------+-----------+-------------------+\n",
      "\n"
     ]
    }
   ],
   "source": [
    "spark_df.show()"
   ]
  },
  {
   "cell_type": "code",
   "execution_count": 13,
   "id": "b80cc88d-5e26-48f1-b44d-86a9e60c0920",
   "metadata": {
    "tags": []
   },
   "outputs": [],
   "source": [
    "spark_df = spark_df.withColumn(\"total_liquido\", expr(\"total_bruto * ((100 - desconto_percentual) / 100)\"))"
   ]
  },
  {
   "cell_type": "code",
   "execution_count": 14,
   "id": "813c77bb-bea4-4eb3-aefe-cd6337d2920d",
   "metadata": {
    "tags": []
   },
   "outputs": [
    {
     "name": "stdout",
     "output_type": "stream",
     "text": [
      "+------------+-----------+-------------------+------------------+\n",
      "|transacao_id|total_bruto|desconto_percentual|     total_liquido|\n",
      "+------------+-----------+-------------------+------------------+\n",
      "|           1|       3000|               6.99|            2790.3|\n",
      "|           2|      57989|               1.45|57148.159499999994|\n",
      "|           4|          1|                0.0|               1.0|\n",
      "|           5|         34|                0.0|              34.0|\n",
      "+------------+-----------+-------------------+------------------+\n",
      "\n"
     ]
    }
   ],
   "source": [
    "spark_df.show()"
   ]
  },
  {
   "cell_type": "code",
   "execution_count": 15,
   "id": "41656f7d-9770-4c85-9db4-3ea03d72dde2",
   "metadata": {
    "tags": []
   },
   "outputs": [
    {
     "name": "stdout",
     "output_type": "stream",
     "text": [
      "59973.4595\n"
     ]
    }
   ],
   "source": [
    "sum_net_total = spark_df.agg(F.sum(spark_df.total_liquido)).collect()[0][0]\n",
    "print(sum_net_total)"
   ]
  },
  {
   "cell_type": "markdown",
   "id": "e91cb286-3e3e-4c2c-b2ff-3b9d667d8f3a",
   "metadata": {},
   "source": [
    "## Terceira Tarefa: Do JSON para um modelo relacional de tabelas"
   ]
  },
  {
   "cell_type": "code",
   "execution_count": 17,
   "id": "f49827cb-a1a9-46ee-bae6-986e55025345",
   "metadata": {
    "tags": []
   },
   "outputs": [],
   "source": [
    "df_task3 = pd.read_json(\"datasets/dataset_tarefa3.json\")"
   ]
  },
  {
   "cell_type": "code",
   "execution_count": 18,
   "id": "4e32943d-943f-43da-a510-0a87afe06442",
   "metadata": {
    "tags": []
   },
   "outputs": [
    {
     "data": {
      "text/html": [
       "<div>\n",
       "<style scoped>\n",
       "    .dataframe tbody tr th:only-of-type {\n",
       "        vertical-align: middle;\n",
       "    }\n",
       "\n",
       "    .dataframe tbody tr th {\n",
       "        vertical-align: top;\n",
       "    }\n",
       "\n",
       "    .dataframe thead th {\n",
       "        text-align: right;\n",
       "    }\n",
       "</style>\n",
       "<table border=\"1\" class=\"dataframe\">\n",
       "  <thead>\n",
       "    <tr style=\"text-align: right;\">\n",
       "      <th></th>\n",
       "      <th>CreateDate</th>\n",
       "      <th>EmissionDate</th>\n",
       "      <th>Discount</th>\n",
       "      <th>NFeNumber</th>\n",
       "      <th>NFeID</th>\n",
       "      <th>ItemList</th>\n",
       "    </tr>\n",
       "  </thead>\n",
       "  <tbody>\n",
       "    <tr>\n",
       "      <th>0</th>\n",
       "      <td>2021-05-24T20:21:34.79</td>\n",
       "      <td>2021-05-24T00:00:00</td>\n",
       "      <td>0</td>\n",
       "      <td>501</td>\n",
       "      <td>1</td>\n",
       "      <td>[{'ProductName': 'Rice', 'Value': 35.55, 'Quan...</td>\n",
       "    </tr>\n",
       "    <tr>\n",
       "      <th>1</th>\n",
       "      <td>2021-05-24T20:21:34.79</td>\n",
       "      <td>2021-05-24T00:00:00</td>\n",
       "      <td>0</td>\n",
       "      <td>502</td>\n",
       "      <td>2</td>\n",
       "      <td>[{'ProductName': 'Tomate', 'Value': 12.25, 'Qu...</td>\n",
       "    </tr>\n",
       "    <tr>\n",
       "      <th>2</th>\n",
       "      <td>2021-05-24T20:21:34.79</td>\n",
       "      <td>2021-05-24T00:00:00</td>\n",
       "      <td>0</td>\n",
       "      <td>503</td>\n",
       "      <td>3</td>\n",
       "      <td>[{'ProductName': 'Beer', 'Value': 9.0, 'Quanti...</td>\n",
       "    </tr>\n",
       "  </tbody>\n",
       "</table>\n",
       "</div>"
      ],
      "text/plain": [
       "               CreateDate         EmissionDate  Discount  NFeNumber  NFeID  \\\n",
       "0  2021-05-24T20:21:34.79  2021-05-24T00:00:00         0        501      1   \n",
       "1  2021-05-24T20:21:34.79  2021-05-24T00:00:00         0        502      2   \n",
       "2  2021-05-24T20:21:34.79  2021-05-24T00:00:00         0        503      3   \n",
       "\n",
       "                                            ItemList  \n",
       "0  [{'ProductName': 'Rice', 'Value': 35.55, 'Quan...  \n",
       "1  [{'ProductName': 'Tomate', 'Value': 12.25, 'Qu...  \n",
       "2  [{'ProductName': 'Beer', 'Value': 9.0, 'Quanti...  "
      ]
     },
     "execution_count": 18,
     "metadata": {},
     "output_type": "execute_result"
    }
   ],
   "source": [
    "df_task3"
   ]
  },
  {
   "cell_type": "code",
   "execution_count": 20,
   "id": "630f12be-d890-4c8f-8530-3eae93988537",
   "metadata": {
    "tags": []
   },
   "outputs": [],
   "source": [
    "df_exploded_task3 = df_task3.explode('ItemList')"
   ]
  },
  {
   "cell_type": "code",
   "execution_count": 21,
   "id": "75c1c49e-df20-4be8-949d-050ccd8d5ba4",
   "metadata": {
    "tags": []
   },
   "outputs": [
    {
     "data": {
      "text/html": [
       "<div>\n",
       "<style scoped>\n",
       "    .dataframe tbody tr th:only-of-type {\n",
       "        vertical-align: middle;\n",
       "    }\n",
       "\n",
       "    .dataframe tbody tr th {\n",
       "        vertical-align: top;\n",
       "    }\n",
       "\n",
       "    .dataframe thead th {\n",
       "        text-align: right;\n",
       "    }\n",
       "</style>\n",
       "<table border=\"1\" class=\"dataframe\">\n",
       "  <thead>\n",
       "    <tr style=\"text-align: right;\">\n",
       "      <th></th>\n",
       "      <th>CreateDate</th>\n",
       "      <th>EmissionDate</th>\n",
       "      <th>Discount</th>\n",
       "      <th>NFeNumber</th>\n",
       "      <th>NFeID</th>\n",
       "      <th>ItemList</th>\n",
       "    </tr>\n",
       "  </thead>\n",
       "  <tbody>\n",
       "    <tr>\n",
       "      <th>0</th>\n",
       "      <td>2021-05-24T20:21:34.79</td>\n",
       "      <td>2021-05-24T00:00:00</td>\n",
       "      <td>0</td>\n",
       "      <td>501</td>\n",
       "      <td>1</td>\n",
       "      <td>{'ProductName': 'Rice', 'Value': 35.55, 'Quant...</td>\n",
       "    </tr>\n",
       "    <tr>\n",
       "      <th>0</th>\n",
       "      <td>2021-05-24T20:21:34.79</td>\n",
       "      <td>2021-05-24T00:00:00</td>\n",
       "      <td>0</td>\n",
       "      <td>501</td>\n",
       "      <td>1</td>\n",
       "      <td>{'ProductName': 'Flour', 'Value': 11.55, 'Quan...</td>\n",
       "    </tr>\n",
       "    <tr>\n",
       "      <th>0</th>\n",
       "      <td>2021-05-24T20:21:34.79</td>\n",
       "      <td>2021-05-24T00:00:00</td>\n",
       "      <td>0</td>\n",
       "      <td>501</td>\n",
       "      <td>1</td>\n",
       "      <td>{'ProductName': 'Bean', 'Value': 27.15, 'Quant...</td>\n",
       "    </tr>\n",
       "    <tr>\n",
       "      <th>1</th>\n",
       "      <td>2021-05-24T20:21:34.79</td>\n",
       "      <td>2021-05-24T00:00:00</td>\n",
       "      <td>0</td>\n",
       "      <td>502</td>\n",
       "      <td>2</td>\n",
       "      <td>{'ProductName': 'Tomate', 'Value': 12.25, 'Qua...</td>\n",
       "    </tr>\n",
       "    <tr>\n",
       "      <th>1</th>\n",
       "      <td>2021-05-24T20:21:34.79</td>\n",
       "      <td>2021-05-24T00:00:00</td>\n",
       "      <td>0</td>\n",
       "      <td>502</td>\n",
       "      <td>2</td>\n",
       "      <td>{'ProductName': 'Pasta', 'Value': 7.55, 'Quant...</td>\n",
       "    </tr>\n",
       "    <tr>\n",
       "      <th>2</th>\n",
       "      <td>2021-05-24T20:21:34.79</td>\n",
       "      <td>2021-05-24T00:00:00</td>\n",
       "      <td>0</td>\n",
       "      <td>503</td>\n",
       "      <td>3</td>\n",
       "      <td>{'ProductName': 'Beer', 'Value': 9.0, 'Quantit...</td>\n",
       "    </tr>\n",
       "    <tr>\n",
       "      <th>2</th>\n",
       "      <td>2021-05-24T20:21:34.79</td>\n",
       "      <td>2021-05-24T00:00:00</td>\n",
       "      <td>0</td>\n",
       "      <td>503</td>\n",
       "      <td>3</td>\n",
       "      <td>{'ProductName': 'French fries', 'Value': 10.99...</td>\n",
       "    </tr>\n",
       "    <tr>\n",
       "      <th>2</th>\n",
       "      <td>2021-05-24T20:21:34.79</td>\n",
       "      <td>2021-05-24T00:00:00</td>\n",
       "      <td>0</td>\n",
       "      <td>503</td>\n",
       "      <td>3</td>\n",
       "      <td>{'ProductName': 'Ice cream', 'Value': 27.15, '...</td>\n",
       "    </tr>\n",
       "  </tbody>\n",
       "</table>\n",
       "</div>"
      ],
      "text/plain": [
       "               CreateDate         EmissionDate  Discount  NFeNumber  NFeID  \\\n",
       "0  2021-05-24T20:21:34.79  2021-05-24T00:00:00         0        501      1   \n",
       "0  2021-05-24T20:21:34.79  2021-05-24T00:00:00         0        501      1   \n",
       "0  2021-05-24T20:21:34.79  2021-05-24T00:00:00         0        501      1   \n",
       "1  2021-05-24T20:21:34.79  2021-05-24T00:00:00         0        502      2   \n",
       "1  2021-05-24T20:21:34.79  2021-05-24T00:00:00         0        502      2   \n",
       "2  2021-05-24T20:21:34.79  2021-05-24T00:00:00         0        503      3   \n",
       "2  2021-05-24T20:21:34.79  2021-05-24T00:00:00         0        503      3   \n",
       "2  2021-05-24T20:21:34.79  2021-05-24T00:00:00         0        503      3   \n",
       "\n",
       "                                            ItemList  \n",
       "0  {'ProductName': 'Rice', 'Value': 35.55, 'Quant...  \n",
       "0  {'ProductName': 'Flour', 'Value': 11.55, 'Quan...  \n",
       "0  {'ProductName': 'Bean', 'Value': 27.15, 'Quant...  \n",
       "1  {'ProductName': 'Tomate', 'Value': 12.25, 'Qua...  \n",
       "1  {'ProductName': 'Pasta', 'Value': 7.55, 'Quant...  \n",
       "2  {'ProductName': 'Beer', 'Value': 9.0, 'Quantit...  \n",
       "2  {'ProductName': 'French fries', 'Value': 10.99...  \n",
       "2  {'ProductName': 'Ice cream', 'Value': 27.15, '...  "
      ]
     },
     "execution_count": 21,
     "metadata": {},
     "output_type": "execute_result"
    }
   ],
   "source": [
    "df_exploded_task3"
   ]
  },
  {
   "cell_type": "code",
   "execution_count": 22,
   "id": "a745946b-a52d-4200-86da-557a6d25a2a3",
   "metadata": {
    "tags": []
   },
   "outputs": [],
   "source": [
    "df_normalized = pd.json_normalize(df_exploded_task3['ItemList'])"
   ]
  },
  {
   "cell_type": "code",
   "execution_count": 24,
   "id": "8ad40492-34e4-43f3-b747-aa2bfd5b5021",
   "metadata": {
    "tags": []
   },
   "outputs": [
    {
     "data": {
      "text/html": [
       "<div>\n",
       "<style scoped>\n",
       "    .dataframe tbody tr th:only-of-type {\n",
       "        vertical-align: middle;\n",
       "    }\n",
       "\n",
       "    .dataframe tbody tr th {\n",
       "        vertical-align: top;\n",
       "    }\n",
       "\n",
       "    .dataframe thead th {\n",
       "        text-align: right;\n",
       "    }\n",
       "</style>\n",
       "<table border=\"1\" class=\"dataframe\">\n",
       "  <thead>\n",
       "    <tr style=\"text-align: right;\">\n",
       "      <th></th>\n",
       "      <th>ProductName</th>\n",
       "      <th>Value</th>\n",
       "      <th>Quantity</th>\n",
       "      <th>NFeID</th>\n",
       "    </tr>\n",
       "  </thead>\n",
       "  <tbody>\n",
       "    <tr>\n",
       "      <th>0</th>\n",
       "      <td>Rice</td>\n",
       "      <td>35.55</td>\n",
       "      <td>2</td>\n",
       "      <td>1</td>\n",
       "    </tr>\n",
       "    <tr>\n",
       "      <th>1</th>\n",
       "      <td>Flour</td>\n",
       "      <td>11.55</td>\n",
       "      <td>5</td>\n",
       "      <td>1</td>\n",
       "    </tr>\n",
       "    <tr>\n",
       "      <th>2</th>\n",
       "      <td>Bean</td>\n",
       "      <td>27.15</td>\n",
       "      <td>7</td>\n",
       "      <td>1</td>\n",
       "    </tr>\n",
       "    <tr>\n",
       "      <th>3</th>\n",
       "      <td>Tomate</td>\n",
       "      <td>12.25</td>\n",
       "      <td>10</td>\n",
       "      <td>2</td>\n",
       "    </tr>\n",
       "    <tr>\n",
       "      <th>4</th>\n",
       "      <td>Pasta</td>\n",
       "      <td>7.55</td>\n",
       "      <td>5</td>\n",
       "      <td>2</td>\n",
       "    </tr>\n",
       "    <tr>\n",
       "      <th>5</th>\n",
       "      <td>Beer</td>\n",
       "      <td>9.00</td>\n",
       "      <td>6</td>\n",
       "      <td>3</td>\n",
       "    </tr>\n",
       "    <tr>\n",
       "      <th>6</th>\n",
       "      <td>French fries</td>\n",
       "      <td>10.99</td>\n",
       "      <td>2</td>\n",
       "      <td>3</td>\n",
       "    </tr>\n",
       "    <tr>\n",
       "      <th>7</th>\n",
       "      <td>Ice cream</td>\n",
       "      <td>27.15</td>\n",
       "      <td>1</td>\n",
       "      <td>3</td>\n",
       "    </tr>\n",
       "  </tbody>\n",
       "</table>\n",
       "</div>"
      ],
      "text/plain": [
       "    ProductName  Value  Quantity  NFeID\n",
       "0          Rice  35.55         2      1\n",
       "1         Flour  11.55         5      1\n",
       "2          Bean  27.15         7      1\n",
       "3        Tomate  12.25        10      2\n",
       "4         Pasta   7.55         5      2\n",
       "5          Beer   9.00         6      3\n",
       "6  French fries  10.99         2      3\n",
       "7     Ice cream  27.15         1      3"
      ]
     },
     "execution_count": 24,
     "metadata": {},
     "output_type": "execute_result"
    }
   ],
   "source": [
    "df_normalized['NFeID'] = df_exploded_task3['NFeID'].reset_index().drop(columns='index')\n",
    "df_normalized"
   ]
  },
  {
   "cell_type": "code",
   "execution_count": 25,
   "id": "c42fbf2d-69d0-41e9-bff3-6060f0c1b23b",
   "metadata": {
    "tags": []
   },
   "outputs": [],
   "source": [
    "df_task3_normalized = df_task3.drop(columns='ItemList')"
   ]
  },
  {
   "cell_type": "code",
   "execution_count": 26,
   "id": "fa3b166c-b9f9-4f6a-a784-0254b543a584",
   "metadata": {
    "tags": []
   },
   "outputs": [
    {
     "data": {
      "text/html": [
       "<div>\n",
       "<style scoped>\n",
       "    .dataframe tbody tr th:only-of-type {\n",
       "        vertical-align: middle;\n",
       "    }\n",
       "\n",
       "    .dataframe tbody tr th {\n",
       "        vertical-align: top;\n",
       "    }\n",
       "\n",
       "    .dataframe thead th {\n",
       "        text-align: right;\n",
       "    }\n",
       "</style>\n",
       "<table border=\"1\" class=\"dataframe\">\n",
       "  <thead>\n",
       "    <tr style=\"text-align: right;\">\n",
       "      <th></th>\n",
       "      <th>CreateDate</th>\n",
       "      <th>EmissionDate</th>\n",
       "      <th>Discount</th>\n",
       "      <th>NFeNumber</th>\n",
       "      <th>NFeID</th>\n",
       "    </tr>\n",
       "  </thead>\n",
       "  <tbody>\n",
       "    <tr>\n",
       "      <th>0</th>\n",
       "      <td>2021-05-24T20:21:34.79</td>\n",
       "      <td>2021-05-24T00:00:00</td>\n",
       "      <td>0</td>\n",
       "      <td>501</td>\n",
       "      <td>1</td>\n",
       "    </tr>\n",
       "    <tr>\n",
       "      <th>1</th>\n",
       "      <td>2021-05-24T20:21:34.79</td>\n",
       "      <td>2021-05-24T00:00:00</td>\n",
       "      <td>0</td>\n",
       "      <td>502</td>\n",
       "      <td>2</td>\n",
       "    </tr>\n",
       "    <tr>\n",
       "      <th>2</th>\n",
       "      <td>2021-05-24T20:21:34.79</td>\n",
       "      <td>2021-05-24T00:00:00</td>\n",
       "      <td>0</td>\n",
       "      <td>503</td>\n",
       "      <td>3</td>\n",
       "    </tr>\n",
       "  </tbody>\n",
       "</table>\n",
       "</div>"
      ],
      "text/plain": [
       "               CreateDate         EmissionDate  Discount  NFeNumber  NFeID\n",
       "0  2021-05-24T20:21:34.79  2021-05-24T00:00:00         0        501      1\n",
       "1  2021-05-24T20:21:34.79  2021-05-24T00:00:00         0        502      2\n",
       "2  2021-05-24T20:21:34.79  2021-05-24T00:00:00         0        503      3"
      ]
     },
     "execution_count": 26,
     "metadata": {},
     "output_type": "execute_result"
    }
   ],
   "source": [
    "df_task3_normalized"
   ]
  }
 ],
 "metadata": {
  "kernelspec": {
   "display_name": "lambda3_de_test",
   "language": "python",
   "name": "lambda3_de_test"
  },
  "language_info": {
   "codemirror_mode": {
    "name": "ipython",
    "version": 3
   },
   "file_extension": ".py",
   "mimetype": "text/x-python",
   "name": "python",
   "nbconvert_exporter": "python",
   "pygments_lexer": "ipython3",
   "version": "3.8.16"
  }
 },
 "nbformat": 4,
 "nbformat_minor": 5
}
